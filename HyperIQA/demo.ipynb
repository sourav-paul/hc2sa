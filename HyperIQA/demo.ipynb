{
 "cells": [
  {
   "cell_type": "code",
   "execution_count": 1,
   "id": "aa985f74-5d1c-4be4-a6ef-9c13d9abe6ce",
   "metadata": {
    "tags": []
   },
   "outputs": [],
   "source": [
    "import torch\n",
    "import torchvision\n",
    "import models\n",
    "from PIL import Image\n",
    "import numpy as np"
   ]
  },
  {
   "cell_type": "code",
   "execution_count": 2,
   "id": "cbbf396e-eea2-42f4-9e38-2cf8134cd98b",
   "metadata": {
    "tags": []
   },
   "outputs": [],
   "source": [
    "def pil_loader(path):\n",
    "    with open(path, 'rb') as f:\n",
    "        img = Image.open(f)\n",
    "        return img.convert('RGB')"
   ]
  },
  {
   "cell_type": "code",
   "execution_count": 3,
   "id": "f9379137-a448-48c6-96f7-bf6301186f95",
   "metadata": {
    "tags": []
   },
   "outputs": [
    {
     "name": "stderr",
     "output_type": "stream",
     "text": [
      "Downloading: \"https://download.pytorch.org/models/resnet50-19c8e357.pth\" to /home/ec2-user/.cache/torch/checkpoints/resnet50-19c8e357.pth\n"
     ]
    },
    {
     "data": {
      "application/vnd.jupyter.widget-view+json": {
       "model_id": "6cfc8808ed3546d9b57cc89864cf7e52",
       "version_major": 2,
       "version_minor": 0
      },
      "text/plain": [
       "  0%|          | 0.00/97.8M [00:00<?, ?B/s]"
      ]
     },
     "metadata": {},
     "output_type": "display_data"
    },
    {
     "name": "stdout",
     "output_type": "stream",
     "text": [
      "Predicted quality score: 0.05\n"
     ]
    },
    {
     "name": "stderr",
     "output_type": "stream",
     "text": [
      "/home/ec2-user/anaconda3/envs/amazonei_pytorch_latest_p37/lib/python3.7/site-packages/ipykernel_launcher.py:25: UserWarning: To copy construct from a tensor, it is recommended to use sourceTensor.clone().detach() or sourceTensor.clone().detach().requires_grad_(True), rather than torch.tensor(sourceTensor).\n"
     ]
    }
   ],
   "source": [
    "# im_path = './data/D_01.jpg'\n",
    "# im_path = './data/D_02.jpg'\n",
    "# im_path = './data/D_03.jpg'\n",
    "# im_path = './data/1000.jpg'\n",
    "# im_path = './data/1001.jpg'\n",
    "im_path = './data/1002.JPG'\n",
    "model_hyper = models.HyperNet(16, 112, 224, 112, 56, 28, 14, 7).cuda()\n",
    "model_hyper.train(False)\n",
    "# load our pre-trained model on the koniq-10k dataset\n",
    "# model_hyper.load_state_dict((torch.load('./pretrained/koniq_pretrained.pkl')))\n",
    "model_hyper.load_state_dict((torch.load('./models/'+'livec_1685879565'+'.pth')), strict=False)\n",
    "\n",
    "transforms = torchvision.transforms.Compose([\n",
    "                    torchvision.transforms.Resize((512, 384)),\n",
    "                    torchvision.transforms.RandomCrop(size=224),\n",
    "                    torchvision.transforms.ToTensor(),\n",
    "                    torchvision.transforms.Normalize(mean=(0.485, 0.456, 0.406),\n",
    "                                                     std=(0.229, 0.224, 0.225))])\n",
    "\n",
    "# random crop 10 patches and calculate mean quality score\n",
    "pred_scores = []\n",
    "for i in range(10):\n",
    "    img = pil_loader(im_path)\n",
    "    img = transforms(img)\n",
    "    img = torch.tensor(img.cuda()).unsqueeze(0)\n",
    "    paras = model_hyper(img)  # 'paras' contains the network weights conveyed to target network\n",
    "\n",
    "    # Building target network\n",
    "    model_target = models.TargetNet(paras).cuda()\n",
    "    for param in model_target.parameters():\n",
    "        param.requires_grad = False\n",
    "\n",
    "    # Quality prediction\n",
    "    pred = model_target(paras['target_in_vec'])  # 'paras['target_in_vec']' is the input to target net\n",
    "    pred_scores.append(float(pred.item()))\n",
    "score = np.mean(pred_scores)\n",
    "# quality score ranges from 0-100, a higher score indicates a better quality\n",
    "print('Predicted quality score: %.2f' % score)"
   ]
  },
  {
   "cell_type": "code",
   "execution_count": null,
   "id": "85cf2a71-f2c2-4d1c-a77c-0f22e7d056c7",
   "metadata": {},
   "outputs": [],
   "source": []
  }
 ],
 "metadata": {
  "kernelspec": {
   "display_name": "conda_amazonei_pytorch_latest_p37",
   "language": "python",
   "name": "conda_amazonei_pytorch_latest_p37"
  },
  "language_info": {
   "codemirror_mode": {
    "name": "ipython",
    "version": 3
   },
   "file_extension": ".py",
   "mimetype": "text/x-python",
   "name": "python",
   "nbconvert_exporter": "python",
   "pygments_lexer": "ipython3",
   "version": "3.7.10"
  }
 },
 "nbformat": 4,
 "nbformat_minor": 5
}
