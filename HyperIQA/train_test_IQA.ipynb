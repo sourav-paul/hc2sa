{
 "cells": [
  {
   "cell_type": "code",
   "execution_count": 1,
   "id": "34bda3ad-8907-4284-af02-0d1b5add792f",
   "metadata": {
    "tags": []
   },
   "outputs": [],
   "source": [
    "# will run in multi gpu"
   ]
  },
  {
   "cell_type": "code",
   "execution_count": 2,
   "id": "fc36ca36-2c83-44b0-b822-d1682d99c076",
   "metadata": {},
   "outputs": [
    {
     "name": "stdout",
     "output_type": "stream",
     "text": [
      "Looking in indexes: https://pypi.org/simple, https://pip.repos.neuron.amazonaws.com\n",
      "Requirement already satisfied: cycler in /home/ec2-user/anaconda3/envs/amazonei_pytorch_latest_p37/lib/python3.7/site-packages (from -r requirements.txt (line 1)) (0.11.0)\n",
      "Requirement already satisfied: fonttools in /home/ec2-user/anaconda3/envs/amazonei_pytorch_latest_p37/lib/python3.7/site-packages (from -r requirements.txt (line 2)) (4.38.0)\n",
      "Requirement already satisfied: imageio in /home/ec2-user/anaconda3/envs/amazonei_pytorch_latest_p37/lib/python3.7/site-packages (from -r requirements.txt (line 3)) (2.24.0)\n",
      "Requirement already satisfied: kiwisolver in /home/ec2-user/anaconda3/envs/amazonei_pytorch_latest_p37/lib/python3.7/site-packages (from -r requirements.txt (line 4)) (1.4.4)\n",
      "Requirement already satisfied: libsvm in /home/ec2-user/anaconda3/envs/amazonei_pytorch_latest_p37/lib/python3.7/site-packages (from -r requirements.txt (line 5)) (3.23.0.4)\n",
      "Requirement already satisfied: matplotlib in /home/ec2-user/anaconda3/envs/amazonei_pytorch_latest_p37/lib/python3.7/site-packages (from -r requirements.txt (line 6)) (3.5.3)\n",
      "Requirement already satisfied: networkx in /home/ec2-user/anaconda3/envs/amazonei_pytorch_latest_p37/lib/python3.7/site-packages (from -r requirements.txt (line 7)) (2.6.3)\n",
      "Requirement already satisfied: numpy in /home/ec2-user/anaconda3/envs/amazonei_pytorch_latest_p37/lib/python3.7/site-packages (from -r requirements.txt (line 8)) (1.21.6)\n",
      "Requirement already satisfied: opencv-python in /home/ec2-user/anaconda3/envs/amazonei_pytorch_latest_p37/lib/python3.7/site-packages (from -r requirements.txt (line 9)) (4.7.0.68)\n",
      "Requirement already satisfied: packaging in /home/ec2-user/anaconda3/envs/amazonei_pytorch_latest_p37/lib/python3.7/site-packages (from -r requirements.txt (line 10)) (21.3)\n",
      "Requirement already satisfied: Pillow in /home/ec2-user/anaconda3/envs/amazonei_pytorch_latest_p37/lib/python3.7/site-packages (from -r requirements.txt (line 11)) (9.5.0)\n",
      "Requirement already satisfied: pyparsing in /home/ec2-user/anaconda3/envs/amazonei_pytorch_latest_p37/lib/python3.7/site-packages (from -r requirements.txt (line 12)) (3.0.9)\n",
      "Requirement already satisfied: python-dateutil in /home/ec2-user/anaconda3/envs/amazonei_pytorch_latest_p37/lib/python3.7/site-packages (from -r requirements.txt (line 13)) (2.8.2)\n",
      "Requirement already satisfied: PyWavelets in /home/ec2-user/anaconda3/envs/amazonei_pytorch_latest_p37/lib/python3.7/site-packages (from -r requirements.txt (line 14)) (1.3.0)\n",
      "Requirement already satisfied: scikit-image in /home/ec2-user/anaconda3/envs/amazonei_pytorch_latest_p37/lib/python3.7/site-packages (from -r requirements.txt (line 15)) (0.19.3)\n",
      "Requirement already satisfied: scipy in /home/ec2-user/anaconda3/envs/amazonei_pytorch_latest_p37/lib/python3.7/site-packages (from -r requirements.txt (line 16)) (1.7.3)\n",
      "Requirement already satisfied: setuptools-scm in /home/ec2-user/anaconda3/envs/amazonei_pytorch_latest_p37/lib/python3.7/site-packages (from -r requirements.txt (line 17)) (7.1.0)\n",
      "Requirement already satisfied: six in /home/ec2-user/anaconda3/envs/amazonei_pytorch_latest_p37/lib/python3.7/site-packages (from -r requirements.txt (line 18)) (1.16.0)\n",
      "Requirement already satisfied: tifffile in /home/ec2-user/anaconda3/envs/amazonei_pytorch_latest_p37/lib/python3.7/site-packages (from -r requirements.txt (line 19)) (2021.11.2)\n",
      "Requirement already satisfied: tomli in /home/ec2-user/anaconda3/envs/amazonei_pytorch_latest_p37/lib/python3.7/site-packages (from -r requirements.txt (line 20)) (2.0.1)\n",
      "Requirement already satisfied: torch in /home/ec2-user/anaconda3/envs/amazonei_pytorch_latest_p37/lib/python3.7/site-packages (from -r requirements.txt (line 21)) (1.5.1)\n",
      "Requirement already satisfied: torch-vision in /home/ec2-user/anaconda3/envs/amazonei_pytorch_latest_p37/lib/python3.7/site-packages (from -r requirements.txt (line 22)) (0.1.6.dev0)\n",
      "Requirement already satisfied: kutils in /home/ec2-user/anaconda3/envs/amazonei_pytorch_latest_p37/lib/python3.7/site-packages (from -r requirements.txt (line 23)) (0.3.0)\n",
      "Requirement already satisfied: openpyxl in /home/ec2-user/anaconda3/envs/amazonei_pytorch_latest_p37/lib/python3.7/site-packages (from -r requirements.txt (line 24)) (3.1.2)\n",
      "Requirement already satisfied: torchvision.utils in /home/ec2-user/anaconda3/envs/amazonei_pytorch_latest_p37/lib/python3.7/site-packages (from -r requirements.txt (line 25)) (0.0.2)\n",
      "Requirement already satisfied: typing-extensions in /home/ec2-user/anaconda3/envs/amazonei_pytorch_latest_p37/lib/python3.7/site-packages (from kiwisolver->-r requirements.txt (line 4)) (4.5.0)\n",
      "Requirement already satisfied: importlib-metadata in /home/ec2-user/anaconda3/envs/amazonei_pytorch_latest_p37/lib/python3.7/site-packages (from setuptools-scm->-r requirements.txt (line 17)) (4.11.4)\n",
      "Requirement already satisfied: setuptools in /home/ec2-user/anaconda3/envs/amazonei_pytorch_latest_p37/lib/python3.7/site-packages (from setuptools-scm->-r requirements.txt (line 17)) (65.6.3)\n",
      "Requirement already satisfied: future in /home/ec2-user/anaconda3/envs/amazonei_pytorch_latest_p37/lib/python3.7/site-packages (from torch->-r requirements.txt (line 21)) (0.18.2)\n",
      "Requirement already satisfied: et-xmlfile in /home/ec2-user/anaconda3/envs/amazonei_pytorch_latest_p37/lib/python3.7/site-packages (from openpyxl->-r requirements.txt (line 24)) (1.1.0)\n",
      "Requirement already satisfied: zipp>=0.5 in /home/ec2-user/anaconda3/envs/amazonei_pytorch_latest_p37/lib/python3.7/site-packages (from importlib-metadata->setuptools-scm->-r requirements.txt (line 17)) (3.11.0)\n",
      "Note: you may need to restart the kernel to use updated packages.\n"
     ]
    }
   ],
   "source": [
    "pip install -r requirements.txt"
   ]
  },
  {
   "cell_type": "code",
   "execution_count": 3,
   "id": "8403cc5b-09ef-457a-bfb2-544edfdf1403",
   "metadata": {
    "tags": []
   },
   "outputs": [],
   "source": [
    "import os\n",
    "import argparse\n",
    "import random\n",
    "import numpy as np\n",
    "from HyerIQASolver import HyperIQASolver"
   ]
  },
  {
   "cell_type": "code",
   "execution_count": 4,
   "id": "9f2e9300-86c4-4de1-9453-5ddf278cf1d1",
   "metadata": {
    "tags": []
   },
   "outputs": [],
   "source": [
    "os.environ['CUDA_VISIBLE_DEVICES'] = '0,1,2,3'\n",
    "# os.environ['CUDA_VISIBLE_DEVICES'] = '0'"
   ]
  },
  {
   "cell_type": "code",
   "execution_count": 5,
   "id": "0b9fc3bb-c164-43b2-a70a-cf9208b80ad3",
   "metadata": {
    "tags": []
   },
   "outputs": [],
   "source": [
    "import data_path"
   ]
  },
  {
   "cell_type": "code",
   "execution_count": 6,
   "id": "2d1ded8f-5980-461f-a5d7-9d5a2d389655",
   "metadata": {
    "tags": []
   },
   "outputs": [],
   "source": [
    "def main(config):\n",
    "\n",
    "    folder_path = {\n",
    "        'live': '/home/ssl/Database/databaserelease2/',\n",
    "        'csiq': '/home/ssl/Database/CSIQ/',\n",
    "        'tid2013': '/home/ssl/Database/TID2013/',\n",
    "        # 'livec': '/home/ssl/Database/ChallengeDB_release/ChallengeDB_release/',\n",
    "        'livec': data_path.clive,\n",
    "        # 'koniq-10k': '/home/ssl/Database/koniq-10k/',\n",
    "        'koniq-10k': data_path.koniq10k,\n",
    "        'bid': '/home/ssl/Database/BID/',\n",
    "    }\n",
    "\n",
    "    img_num = {\n",
    "        'live': list(range(0, 29)),\n",
    "        'csiq': list(range(0, 30)),\n",
    "        'tid2013': list(range(0, 25)),\n",
    "        'livec': list(range(0, 1162)),\n",
    "        # 'koniq-10k': list(range(0, 10073)),\n",
    "        'koniq-10k': list(range(0, 1200)),\n",
    "        'bid': list(range(0, 586)),\n",
    "    }\n",
    "    \n",
    "    config = config[0] # tuple issue fix\n",
    "    sel_num = img_num[config.dataset]\n",
    "\n",
    "    # srcc_all = np.zeros(config.train_test_num, dtype=np.float)\n",
    "    # plcc_all = np.zeros(config.train_test_num, dtype=np.float)\n",
    "    srcc_all = np.zeros(config.train_test_num, dtype=float)\n",
    "    plcc_all = np.zeros(config.train_test_num, dtype=float)\n",
    "\n",
    "    print('Training and testing on %s dataset for %d rounds...' % (config.dataset, config.train_test_num))\n",
    "    for i in range(config.train_test_num):\n",
    "        print('Round %d' % (i+1))\n",
    "        # Randomly select 80% images for training and the rest for testing\n",
    "        random.shuffle(sel_num)\n",
    "        train_index = sel_num[0:int(round(0.8 * len(sel_num)))]\n",
    "        test_index = sel_num[int(round(0.8 * len(sel_num))):len(sel_num)]\n",
    "\n",
    "        solver = HyperIQASolver(config, folder_path[config.dataset], train_index, test_index)\n",
    "        srcc_all[i], plcc_all[i] = solver.train()\n",
    "\n",
    "    # print(srcc_all)\n",
    "    # print(plcc_all)\n",
    "    srcc_med = np.median(srcc_all)\n",
    "    plcc_med = np.median(plcc_all)\n",
    "\n",
    "    print('Testing median SRCC %4.4f,\\tmedian PLCC %4.4f' % (srcc_med, plcc_med))\n",
    "\n",
    "    # return srcc_med, plcc_med"
   ]
  },
  {
   "cell_type": "code",
   "execution_count": null,
   "id": "a6db0bec-ade7-4b87-9af5-b868ab31de4c",
   "metadata": {
    "tags": []
   },
   "outputs": [
    {
     "name": "stdout",
     "output_type": "stream",
     "text": [
      "Training and testing on koniq-10k dataset for 3 rounds...\n",
      "Round 1\n",
      "Epoch\tTrain_Loss\tTrain_SRCC\tTest_SRCC\tTest_PLCC\n"
     ]
    },
    {
     "name": "stderr",
     "output_type": "stream",
     "text": [
      "/home/ec2-user/SageMaker/AmazonSageMaker-AdsQuality/code/HyperIQ/HyerIQASolver.py:51: UserWarning: To copy construct from a tensor, it is recommended to use sourceTensor.clone().detach() or sourceTensor.clone().detach().requires_grad_(True), rather than torch.tensor(sourceTensor).\n",
      "  img = torch.tensor(img.cuda())\n",
      "/home/ec2-user/SageMaker/AmazonSageMaker-AdsQuality/code/HyperIQ/HyerIQASolver.py:52: UserWarning: To copy construct from a tensor, it is recommended to use sourceTensor.clone().detach() or sourceTensor.clone().detach().requires_grad_(True), rather than torch.tensor(sourceTensor).\n",
      "  label = torch.tensor(label.cuda())\n",
      "/home/ec2-user/SageMaker/AmazonSageMaker-AdsQuality/code/HyperIQ/HyerIQASolver.py:105: UserWarning: To copy construct from a tensor, it is recommended to use sourceTensor.clone().detach() or sourceTensor.clone().detach().requires_grad_(True), rather than torch.tensor(sourceTensor).\n",
      "  img = torch.tensor(img.cuda())\n",
      "/home/ec2-user/SageMaker/AmazonSageMaker-AdsQuality/code/HyperIQ/HyerIQASolver.py:106: UserWarning: To copy construct from a tensor, it is recommended to use sourceTensor.clone().detach() or sourceTensor.clone().detach().requires_grad_(True), rather than torch.tensor(sourceTensor).\n",
      "  label = torch.tensor(label.cuda())\n"
     ]
    },
    {
     "name": "stdout",
     "output_type": "stream",
     "text": [
      "1\t14.228\t\t0.5454\t\t0.8804\t\t0.9098\n",
      "2\t4.501\t\t0.9232\t\t0.8885\t\t0.9099\n",
      "3\t3.999\t\t0.9404\t\t0.8885\t\t0.9151\n",
      "Best test SRCC 0.888543, PLCC 0.909913\n",
      "Round 2\n",
      "Epoch\tTrain_Loss\tTrain_SRCC\tTest_SRCC\tTest_PLCC\n",
      "1\t14.997\t\t0.5226\t\t0.8750\t\t0.8859\n",
      "2\t4.549\t\t0.9229\t\t0.8827\t\t0.8959\n",
      "3\t4.064\t\t0.9394\t\t0.8926\t\t0.9045\n",
      "Best test SRCC 0.892576, PLCC 0.904530\n",
      "Round 3\n",
      "Epoch\tTrain_Loss\tTrain_SRCC\tTest_SRCC\tTest_PLCC\n",
      "1\t14.335\t\t0.5466\t\t0.8355\t\t0.8432\n"
     ]
    }
   ],
   "source": [
    "if __name__ == '__main__':\n",
    "    parser = argparse.ArgumentParser()\n",
    "    parser.add_argument('--dataset', dest='dataset', type=str, default='koniq-10k', help='Support datasets: livec|koniq-10k|bid|live|csiq|tid2013')\n",
    "    parser.add_argument('--train_patch_num', dest='train_patch_num', type=int, default=25, help='Number of sample patches from training image')\n",
    "    parser.add_argument('--test_patch_num', dest='test_patch_num', type=int, default=25, help='Number of sample patches from testing image')\n",
    "    parser.add_argument('--lr', dest='lr', type=float, default=2e-5, help='Learning rate')\n",
    "    parser.add_argument('--weight_decay', dest='weight_decay', type=float, default=5e-4, help='Weight decay')\n",
    "    parser.add_argument('--lr_ratio', dest='lr_ratio', type=int, default=10, help='Learning rate ratio for hyper network')\n",
    "    parser.add_argument('--batch_size', dest='batch_size', type=int, default=96, help='Batch size')\n",
    "    \n",
    "    # parser.add_argument('--epochs', dest='epochs', type=int, default=16, help='Epochs for training')\n",
    "    parser.add_argument('--epochs', dest='epochs', type=int, default=3, help='Epochs for training')\n",
    "    \n",
    "    parser.add_argument('--patch_size', dest='patch_size', type=int, default=224, help='Crop size for training & testing image patches')\n",
    "    \n",
    "    # parser.add_argument('--train_test_num', dest='train_test_num', type=int, default=10, help='Train-test times')\n",
    "    parser.add_argument('--train_test_num', dest='train_test_num', type=int, default=3, help='Train-test times')\n",
    "\n",
    "    # config = parser.parse_args()\n",
    "    config = parser.parse_known_args()\n",
    "    # print(config)\n",
    "    main(config)"
   ]
  }
 ],
 "metadata": {
  "kernelspec": {
   "display_name": "conda_amazonei_pytorch_latest_p37",
   "language": "python",
   "name": "conda_amazonei_pytorch_latest_p37"
  },
  "language_info": {
   "codemirror_mode": {
    "name": "ipython",
    "version": 3
   },
   "file_extension": ".py",
   "mimetype": "text/x-python",
   "name": "python",
   "nbconvert_exporter": "python",
   "pygments_lexer": "ipython3",
   "version": "3.7.10"
  }
 },
 "nbformat": 4,
 "nbformat_minor": 5
}
