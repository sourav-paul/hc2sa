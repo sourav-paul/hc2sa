{
 "cells": [
  {
   "cell_type": "code",
   "execution_count": 26,
   "id": "5501ea02-08e9-4803-9529-716aecc88640",
   "metadata": {
    "tags": []
   },
   "outputs": [],
   "source": [
    "import pandas as pd"
   ]
  },
  {
   "cell_type": "code",
   "execution_count": 27,
   "id": "b4a9dcef-34ab-4d5f-b428-b77867b509bc",
   "metadata": {
    "tags": []
   },
   "outputs": [],
   "source": [
    "csv_input = pd.read_csv('live_mos_original.csv', sep=r'\\s*,\\s*', header=0, encoding='ascii', engine='python')"
   ]
  },
  {
   "cell_type": "code",
   "execution_count": 28,
   "id": "c3e31682-115f-4423-9a31-c043d9465f9d",
   "metadata": {
    "tags": []
   },
   "outputs": [],
   "source": [
    "list = ['test'] * 100 + ['validation'] * 100 + ['training'] * 967\n",
    "csv_input['set'] = list"
   ]
  },
  {
   "cell_type": "code",
   "execution_count": 30,
   "id": "9672ab17-ac3b-41e2-aab0-0df8085e0420",
   "metadata": {
    "tags": []
   },
   "outputs": [],
   "source": [
    "csv_input.to_csv('live_mos.csv', index=False)"
   ]
  },
  {
   "cell_type": "code",
   "execution_count": null,
   "id": "7b995f38-4ccb-40db-a0f1-67118eb9d0cc",
   "metadata": {},
   "outputs": [],
   "source": []
  },
  {
   "cell_type": "code",
   "execution_count": 25,
   "id": "00998a58-9cbf-4a0b-a1da-077183fd55e9",
   "metadata": {
    "tags": []
   },
   "outputs": [
    {
     "name": "stdout",
     "output_type": "stream",
     "text": [
      "['test', 'test', 'test', 'test', 'test', 'test', 'test', 'test', 'test', 'test', 'test', 'test', 'test', 'test', 'test', 'test', 'test', 'test', 'test', 'test', 'test', 'test', 'test', 'test', 'test', 'test', 'test', 'test', 'test', 'test', 'test', 'test', 'test', 'test', 'test', 'test', 'test', 'test', 'test', 'test', 'test', 'test', 'test', 'test', 'test', 'test', 'test', 'test', 'test', 'test', 'test', 'test', 'test', 'test', 'test', 'test', 'test', 'test', 'test', 'test', 'test', 'test', 'test', 'test', 'test', 'test', 'test', 'test', 'test', 'test', 'test', 'test', 'test', 'test', 'test', 'test', 'test', 'test', 'test', 'test', 'test', 'test', 'test', 'test', 'test', 'test', 'test', 'test', 'test', 'test', 'test', 'test', 'test', 'test', 'test', 'test', 'test', 'test', 'test', 'test', 'validation', 'validation', 'validation', 'validation', 'validation', 'validation', 'validation', 'validation', 'validation', 'validation', 'validation', 'validation', 'validation', 'validation', 'validation', 'validation', 'validation', 'validation', 'validation', 'validation', 'validation', 'validation', 'validation', 'validation', 'validation', 'validation', 'validation', 'validation', 'validation', 'validation', 'validation', 'validation', 'validation', 'validation', 'validation', 'validation', 'validation', 'validation', 'validation', 'validation', 'validation', 'validation', 'validation', 'validation', 'validation', 'validation', 'validation', 'validation', 'validation', 'validation', 'validation', 'validation', 'validation', 'validation', 'validation', 'validation', 'validation', 'validation', 'validation', 'validation', 'validation', 'validation', 'validation', 'validation', 'validation', 'validation', 'validation', 'validation', 'validation', 'validation', 'validation', 'validation', 'validation', 'validation', 'validation', 'validation', 'validation', 'validation', 'validation', 'validation', 'validation', 'validation', 'validation', 'validation', 'validation', 'validation', 'validation', 'validation', 'validation', 'validation', 'validation', 'validation', 'validation', 'validation', 'validation', 'validation', 'validation', 'validation', 'validation', 'validation', 'training', 'training', 'training', 'training', 'training', 'training', 'training', 'training', 'training', 'training', 'training', 'training', 'training', 'training', 'training', 'training', 'training', 'training', 'training', 'training', 'training', 'training', 'training', 'training', 'training', 'training', 'training', 'training', 'training', 'training', 'training', 'training', 'training', 'training', 'training', 'training', 'training', 'training', 'training', 'training', 'training', 'training', 'training', 'training', 'training', 'training', 'training', 'training', 'training', 'training', 'training', 'training', 'training', 'training', 'training', 'training', 'training', 'training', 'training', 'training', 'training', 'training', 'training', 'training', 'training', 'training', 'training', 'training', 'training', 'training', 'training', 'training', 'training', 'training', 'training', 'training', 'training', 'training', 'training', 'training', 'training', 'training', 'training', 'training', 'training', 'training', 'training', 'training', 'training', 'training', 'training', 'training', 'training', 'training', 'training', 'training', 'training', 'training', 'training', 'training', 'training', 'training', 'training', 'training', 'training', 'training', 'training', 'training', 'training', 'training', 'training', 'training', 'training', 'training', 'training', 'training', 'training', 'training', 'training', 'training', 'training', 'training', 'training', 'training', 'training', 'training', 'training', 'training', 'training', 'training', 'training', 'training', 'training', 'training', 'training', 'training', 'training', 'training', 'training', 'training', 'training', 'training', 'training', 'training', 'training', 'training', 'training', 'training', 'training', 'training', 'training', 'training', 'training', 'training', 'training', 'training', 'training', 'training', 'training', 'training', 'training', 'training', 'training', 'training', 'training', 'training', 'training', 'training', 'training', 'training', 'training', 'training', 'training', 'training', 'training', 'training', 'training', 'training', 'training', 'training', 'training', 'training', 'training', 'training', 'training', 'training', 'training', 'training', 'training', 'training', 'training', 'training', 'training', 'training', 'training', 'training', 'training', 'training', 'training', 'training', 'training', 'training', 'training', 'training', 'training', 'training', 'training', 'training', 'training', 'training', 'training', 'training', 'training', 'training', 'training', 'training', 'training', 'training', 'training', 'training', 'training', 'training', 'training', 'training', 'training', 'training', 'training', 'training', 'training', 'training', 'training', 'training', 'training', 'training', 'training', 'training', 'training', 'training', 'training', 'training', 'training', 'training', 'training', 'training', 'training', 'training', 'training', 'training', 'training', 'training', 'training', 'training', 'training', 'training', 'training', 'training', 'training', 'training', 'training', 'training', 'training', 'training', 'training', 'training', 'training', 'training', 'training', 'training', 'training', 'training', 'training', 'training', 'training', 'training', 'training', 'training', 'training', 'training', 'training', 'training', 'training', 'training', 'training', 'training', 'training', 'training', 'training', 'training', 'training', 'training', 'training', 'training', 'training', 'training', 'training', 'training', 'training', 'training', 'training', 'training', 'training', 'training', 'training', 'training', 'training', 'training', 'training', 'training', 'training', 'training', 'training', 'training', 'training', 'training', 'training', 'training', 'training', 'training', 'training', 'training', 'training', 'training', 'training', 'training', 'training', 'training', 'training', 'training', 'training', 'training', 'training', 'training', 'training', 'training', 'training', 'training', 'training', 'training', 'training', 'training', 'training', 'training', 'training', 'training', 'training', 'training', 'training', 'training', 'training', 'training', 'training', 'training', 'training', 'training', 'training', 'training', 'training', 'training', 'training', 'training', 'training', 'training', 'training', 'training', 'training', 'training', 'training', 'training', 'training', 'training', 'training', 'training', 'training', 'training', 'training', 'training', 'training', 'training', 'training', 'training', 'training', 'training', 'training', 'training', 'training', 'training', 'training', 'training', 'training', 'training', 'training', 'training', 'training', 'training', 'training', 'training', 'training', 'training', 'training', 'training', 'training', 'training', 'training', 'training', 'training', 'training', 'training', 'training', 'training', 'training', 'training', 'training', 'training', 'training', 'training', 'training', 'training', 'training', 'training', 'training', 'training', 'training', 'training', 'training', 'training', 'training', 'training', 'training', 'training', 'training', 'training', 'training', 'training', 'training', 'training', 'training', 'training', 'training', 'training', 'training', 'training', 'training', 'training', 'training', 'training', 'training', 'training', 'training', 'training', 'training', 'training', 'training', 'training', 'training', 'training', 'training', 'training', 'training', 'training', 'training', 'training', 'training', 'training', 'training', 'training', 'training', 'training', 'training', 'training', 'training', 'training', 'training', 'training', 'training', 'training', 'training', 'training', 'training', 'training', 'training', 'training', 'training', 'training', 'training', 'training', 'training', 'training', 'training', 'training', 'training', 'training', 'training', 'training', 'training', 'training', 'training', 'training', 'training', 'training', 'training', 'training', 'training', 'training', 'training', 'training', 'training', 'training', 'training', 'training', 'training', 'training', 'training', 'training', 'training', 'training', 'training', 'training', 'training', 'training', 'training', 'training', 'training', 'training', 'training', 'training', 'training', 'training', 'training', 'training', 'training', 'training', 'training', 'training', 'training', 'training', 'training', 'training', 'training', 'training', 'training', 'training', 'training', 'training', 'training', 'training', 'training', 'training', 'training', 'training', 'training', 'training', 'training', 'training', 'training', 'training', 'training', 'training', 'training', 'training', 'training', 'training', 'training', 'training', 'training', 'training', 'training', 'training', 'training', 'training', 'training', 'training', 'training', 'training', 'training', 'training', 'training', 'training', 'training', 'training', 'training', 'training', 'training', 'training', 'training', 'training', 'training', 'training', 'training', 'training', 'training', 'training', 'training', 'training', 'training', 'training', 'training', 'training', 'training', 'training', 'training', 'training', 'training', 'training', 'training', 'training', 'training', 'training', 'training', 'training', 'training', 'training', 'training', 'training', 'training', 'training', 'training', 'training', 'training', 'training', 'training', 'training', 'training', 'training', 'training', 'training', 'training', 'training', 'training', 'training', 'training', 'training', 'training', 'training', 'training', 'training', 'training', 'training', 'training', 'training', 'training', 'training', 'training', 'training', 'training', 'training', 'training', 'training', 'training', 'training', 'training', 'training', 'training', 'training', 'training', 'training', 'training', 'training', 'training', 'training', 'training', 'training', 'training', 'training', 'training', 'training', 'training', 'training', 'training', 'training', 'training', 'training', 'training', 'training', 'training', 'training', 'training', 'training', 'training', 'training', 'training', 'training', 'training', 'training', 'training', 'training', 'training', 'training', 'training', 'training', 'training', 'training', 'training', 'training', 'training', 'training', 'training', 'training', 'training', 'training', 'training', 'training', 'training', 'training', 'training', 'training', 'training', 'training', 'training', 'training', 'training', 'training', 'training', 'training', 'training', 'training', 'training', 'training', 'training', 'training', 'training', 'training', 'training', 'training', 'training', 'training', 'training', 'training', 'training', 'training', 'training', 'training', 'training', 'training', 'training', 'training', 'training', 'training', 'training', 'training', 'training', 'training', 'training', 'training', 'training', 'training', 'training', 'training', 'training', 'training', 'training', 'training', 'training', 'training', 'training', 'training', 'training', 'training', 'training', 'training', 'training', 'training', 'training', 'training', 'training', 'training', 'training', 'training', 'training', 'training', 'training', 'training', 'training', 'training', 'training', 'training', 'training', 'training', 'training', 'training', 'training', 'training', 'training', 'training', 'training', 'training', 'training', 'training', 'training', 'training', 'training', 'training', 'training', 'training', 'training', 'training', 'training', 'training', 'training', 'training', 'training', 'training', 'training', 'training', 'training', 'training', 'training', 'training', 'training', 'training', 'training', 'training', 'training', 'training', 'training', 'training', 'training', 'training', 'training', 'training', 'training', 'training', 'training', 'training', 'training', 'training', 'training', 'training', 'training', 'training', 'training', 'training', 'training', 'training', 'training', 'training', 'training', 'training', 'training', 'training', 'training', 'training', 'training', 'training', 'training', 'training', 'training', 'training', 'training', 'training', 'training', 'training', 'training', 'training', 'training', 'training', 'training', 'training', 'training', 'training', 'training', 'training', 'training', 'training', 'training', 'training', 'training', 'training', 'training', 'training', 'training', 'training', 'training', 'training', 'training', 'training', 'training', 'training', 'training', 'training', 'training', 'training', 'training', 'training', 'training', 'training', 'training', 'training', 'training', 'training', 'training', 'training', 'training', 'training', 'training', 'training', 'training', 'training', 'training', 'training', 'training', 'training', 'training', 'training', 'training', 'training', 'training', 'training', 'training', 'training', 'training', 'training', 'training', 'training', 'training', 'training', 'training', 'training', 'training', 'training', 'training', 'training', 'training', 'training', 'training', 'training', 'training', 'training', 'training', 'training', 'training', 'training', 'training', 'training', 'training', 'training', 'training', 'training', 'training', 'training', 'training', 'training', 'training', 'training', 'training', 'training', 'training', 'training', 'training', 'training', 'training', 'training', 'training', 'training', 'training', 'training', 'training', 'training', 'training', 'training', 'training', 'training', 'training', 'training', 'training', 'training', 'training', 'training']\n",
      "test\n"
     ]
    }
   ],
   "source": [
    "import math\n",
    "import random \n",
    "\n",
    "### Random number\n",
    "### 2 10%\n",
    "### 9 90%\n",
    "\n",
    "my_list = ['test'] * 100 + ['validation'] * 100 + ['training'] * 967\n",
    "\n",
    "print(my_list)\n",
    "\n",
    "\n",
    "print (my_list[random.randrange(0, 10)])"
   ]
  },
  {
   "cell_type": "code",
   "execution_count": null,
   "id": "db990c89-7461-4160-ae11-7dd4d3b499c9",
   "metadata": {},
   "outputs": [],
   "source": []
  }
 ],
 "metadata": {
  "kernelspec": {
   "display_name": "conda_python3",
   "language": "python",
   "name": "conda_python3"
  },
  "language_info": {
   "codemirror_mode": {
    "name": "ipython",
    "version": 3
   },
   "file_extension": ".py",
   "mimetype": "text/x-python",
   "name": "python",
   "nbconvert_exporter": "python",
   "pygments_lexer": "ipython3",
   "version": "3.10.8"
  }
 },
 "nbformat": 4,
 "nbformat_minor": 5
}
